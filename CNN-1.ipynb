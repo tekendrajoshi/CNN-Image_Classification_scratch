{
  "nbformat": 4,
  "nbformat_minor": 0,
  "metadata": {
    "colab": {
      "provenance": []
    },
    "kernelspec": {
      "name": "python3",
      "display_name": "Python 3"
    },
    "language_info": {
      "name": "python"
    }
  },
  "cells": [
    {
      "cell_type": "code",
      "source": [
        "# ============== DOWNLOAD THE IMAGES ============\n",
        "import os\n",
        "import requests\n",
        "\n",
        "classes = ['cat', 'dog', 'tree', 'clock']\n",
        "base_url = \"https://storage.googleapis.com/quickdraw_dataset/full/numpy_bitmap\"\n",
        "save_dir = \"/content/quickdraw_npy\"\n",
        "os.makedirs(save_dir, exist_ok=True)\n",
        "\n",
        "for cls in classes:\n",
        "    url = f\"{base_url}/{cls}.npy\"\n",
        "    save_path = f\"{save_dir}/{cls}.npy\"\n",
        "\n",
        "    if not os.path.exists(save_path):\n",
        "        print(f\"⬇️ Downloading {cls}.npy...\")\n",
        "        r = requests.get(url)\n",
        "        with open(save_path, 'wb') as f:\n",
        "            f.write(r.content)\n",
        "    else:\n",
        "        print(f\"✔️ {cls}.npy already exists.\")\n",
        "print(\"✅ All downloads done.\")\n"
      ],
      "metadata": {
        "colab": {
          "base_uri": "https://localhost:8080/"
        },
        "id": "2qElZu3fF8Yb",
        "outputId": "e63e2b12-c198-41be-f354-91ee98f72ac8"
      },
      "execution_count": 9,
      "outputs": [
        {
          "output_type": "stream",
          "name": "stdout",
          "text": [
            "⬇️ Downloading cat.npy...\n",
            "⬇️ Downloading dog.npy...\n",
            "⬇️ Downloading tree.npy...\n",
            "⬇️ Downloading clock.npy...\n",
            "✅ All downloads done.\n"
          ]
        }
      ]
    },
    {
      "cell_type": "code",
      "source": [
        "import os\n",
        "\n",
        "print(\"Files in /content/quickdraw_npy:\")\n",
        "print(os.listdir(\"/content/quickdraw_npy\"))\n"
      ],
      "metadata": {
        "colab": {
          "base_uri": "https://localhost:8080/"
        },
        "id": "crZGq1kOFvGj",
        "outputId": "20ba86f4-3fcd-495a-ea9f-6f8948dace5a"
      },
      "execution_count": 15,
      "outputs": [
        {
          "output_type": "stream",
          "name": "stdout",
          "text": [
            "Files in /content/quickdraw_npy:\n",
            "['dog.npy', 'tree.npy', 'cat.npy', 'clock.npy']\n"
          ]
        }
      ]
    },
    {
      "cell_type": "code",
      "source": [
        "# MAKES COMBINED DATASET WITH 1000 IMAGES EACH FROM ALL 4 CXATEGORIES AND SPLIT THEM INTO TRAIN TEST DATASETS\n",
        "\n",
        "\n",
        "import numpy as np\n",
        "from sklearn.utils import shuffle\n",
        "from sklearn.model_selection import train_test_split\n",
        "\n",
        "# Classes you want to include\n",
        "classes = ['cat', 'dog', 'tree', 'clock']\n",
        "class_labels = {cls: i for i, cls in enumerate(classes)}\n",
        "\n",
        "X = []\n",
        "y = []\n",
        "\n",
        "# Load 1000 samples per class and label\n",
        "for cls in classes:\n",
        "    data = np.load(f\"/content/quickdraw_npy/{cls}.npy\")\n",
        "    X.append(data[:1000])  # take only first 1000 images\n",
        "    y.append(np.full(1000, class_labels[cls]))  # e.g., 0 for cat, 1 for dog\n",
        "\n",
        "# Stack everything together\n",
        "X = np.concatenate(X, axis=0).reshape(-1, 28, 28, 1) / 255.0  # normalize and reshape\n",
        "y = np.concatenate(y, axis=0)\n",
        "\n",
        "# Shuffle the data\n",
        "X, y = shuffle(X, y, random_state=42)\n",
        "\n",
        "# Split into train/test\n",
        "X_train, X_test, y_train, y_test = train_test_split(X, y, test_size=0.2, random_state=42)\n",
        "\n",
        "print(\"X_train shape:\", X_train.shape)\n",
        "print(\"y_train shape:\", y_train.shape)\n",
        "\n",
        "'''Perfect, Tekendra! That means you've successfully:\n",
        "\n",
        "🧠 Created a mixed dataset from 4 classes (cat, dog, tree, clock)\n",
        "\n",
        "🎯 Preprocessed it correctly (normalized + reshaped)\n",
        "\n",
        "🎲 Shuffled and split into train/test sets'''\n",
        "\n"
      ],
      "metadata": {
        "colab": {
          "base_uri": "https://localhost:8080/",
          "height": 87
        },
        "id": "I2f_kEiz65l3",
        "outputId": "7d32bed8-77f0-4e09-9da0-d02e7c4a005d"
      },
      "execution_count": 17,
      "outputs": [
        {
          "output_type": "stream",
          "name": "stdout",
          "text": [
            "X_train shape: (3200, 28, 28, 1)\n",
            "y_train shape: (3200,)\n"
          ]
        },
        {
          "output_type": "execute_result",
          "data": {
            "text/plain": [
              "\"Perfect, Tekendra! That means you've successfully:\\n\\n🧠 Created a mixed dataset from 4 classes (cat, dog, tree, clock)\\n\\n🎯 Preprocessed it correctly (normalized + reshaped)\\n\\n🎲 Shuffled and split into train/test sets\""
            ],
            "application/vnd.google.colaboratory.intrinsic+json": {
              "type": "string"
            }
          },
          "metadata": {},
          "execution_count": 17
        }
      ]
    },
    {
      "cell_type": "code",
      "source": [
        "# VIEW SOME RANDOM IMAGES FROM THE DATASET\n",
        "\n",
        "\n",
        "import matplotlib.pyplot as plt\n",
        "import numpy as np\n",
        "\n",
        "# Suppose you have your dataset X (N, 28, 28, 1) and labels y (N,)\n",
        "# Let's visualize 5 random images:\n",
        "\n",
        "def show_random_images(X, y, class_names, num=5):\n",
        "    indices = np.random.choice(len(X), num, replace=False)\n",
        "    plt.figure(figsize=(10, 2))\n",
        "\n",
        "    for i, idx in enumerate(indices):\n",
        "        img = X[idx].reshape(28, 28)  # remove channel dimension\n",
        "        label = class_names[y[idx]]\n",
        "\n",
        "        plt.subplot(1, num, i + 1)\n",
        "        plt.imshow(img, cmap='gray')\n",
        "        plt.title(label)\n",
        "        plt.axis('off')\n",
        "    plt.show()\n",
        "\n",
        "# Your class names map, for example\n",
        "class_names = ['cat', 'dog', 'tree', 'clock']\n",
        "\n",
        "# Call the function with your training data\n",
        "show_random_images(X_train, y_train, class_names)\n"
      ],
      "metadata": {
        "colab": {
          "base_uri": "https://localhost:8080/",
          "height": 192
        },
        "id": "StMk92hv7P_B",
        "outputId": "8a05c41c-85cb-4a88-c7a1-5c91fdcefd64"
      },
      "execution_count": 18,
      "outputs": [
        {
          "output_type": "display_data",
          "data": {
            "text/plain": [
              "<Figure size 1000x200 with 5 Axes>"
            ],
            "image/png": "[encoded data removed]"
          },
          "metadata": {}
        }
      ]
    },
    {
      "cell_type": "markdown",
      "source": [
        "# ABA ARU KAM VAYO NOW STARTS THE REAL NEURAL NETWORK MAKING\n",
        "# YO STEPS HARU GARNE:\n",
        "'''\n",
        "1. image line (28*28)\n",
        "2. use n filters of (3*3)  no of wts = 3*3* no of filters + bias= no of filters\n",
        "3. we get feature map  (26*26) ko\n",
        "4. pass feature map into relu (negative value 0 hunxa positive same hunxa)  (26*26)\n",
        "5. max pooling use garne (2*2)ko and stride=2     (feature map sano hunxa i.e. half) .......output of (13* 13)\n",
        "6. flattern i.e convert 2D images to 1D tensor   (13, 13) ko 1D tensor for single image\n",
        "7. Pass that flaterned tensor into the neural networks.\n",
        "8. output layer with perceptron in this layer= no of category\n",
        "USE SOFTMAX FOR CLASSIFICATION i.e pass the output from the output layer into the softmax."
      ],
      "metadata": {
        "id": "x7AhAkp-_4r1"
      }
    },
    {
      "cell_type": "code",
      "source": [
        "import numpy as np\n",
        "\n",
        "# ===== ReLU =====\n",
        "\n",
        "# ReLU = Rectified Linear Unit. It replaces all negative values with 0, and keeps positive values unchanged. 📈 Used to add non-linearity to the model.\n",
        "def relu(x):\n",
        "    return np.maximum(0, x)\n",
        "\n",
        "\n",
        "\n",
        "# ===================== MAX POOLING 2x2 with stride 2 ===================================\n",
        "\n",
        "#Takes a 2x2 region and picks the maximum value (downsampling).\n",
        "#🔸 Reduces size of image by half → e.g. from (26x26) → (13x13)\n",
        "\n",
        "def max_pooling(feature_map):          # feature map is the 2D array output got from filter(i.e. RELU bata)\n",
        "    h, w = feature_map.shape           # shape of the feature map i.e. h=HEIGHT   w= WIDTH\n",
        "    out = np.zeros((h // 2, w // 2))   #Create an empty array to store the pooled result i.e. yaha half of the inputs: (26, 26)=> (13, 13)\n",
        "\n",
        "\n",
        "    for i in range(0, h, 2):                 # Loop through the feature map with steps of 2 (stride = 2)\n",
        "        for j in range(0, w, 2)              # i moves down (rows), j moves right (columns)   So each iteration covers one 2×2 block like this:\n",
        "            out[i//2, j//2] = np.max(feature_map[i:i+2, j:j+2])          # This line grabs a 2×2 region starting at (i, j)\n",
        "                                                                          # Then applies np.max() to that 2×2 block → selects maximum value and Places that max value in the output array at position (i//2, j//2)\n",
        "    return out\n",
        "\n",
        "# Why i//2, j//2?   ==== Because we are reducing size by half, so every (i,j) in input becomes (i//2, j//2) in output.\n",
        "\n",
        "\n",
        "\n",
        "\n",
        "\n",
        "# ================== SOFTMAX ===========================\n",
        "\n",
        "#Converts raw scores into probabilities that add up to 1\n",
        "#🎯 Used in the output layer to represent confidence for each class (e.g. 20% cat, 80% dog)\n",
        "#  The softmax function takes a vector of raw scores (called logits) from the output layer and turns them into probabilities that: Are between 0 and 1  and Sum of probabilities of all category is 1\n",
        "\n",
        "def softmax(x):                  # x is a 1D NumPy array — the output scores from the final layer of the network (before activation)\n",
        "    exp_x = np.exp(x - np.max(x))\n",
        "    return exp_x / np.sum(exp_x)\n",
        "\n",
        "\n",
        "\n",
        "\n",
        "\n",
        "# ===== Convolution Layer (Single filter)  output= feature map =====\n",
        "\n",
        "# Applies a filter (kernel) to the image using a sliding window.\n",
        "# At each position, it multiplies region values and filter weights, adds bias, and stores the result.\n",
        "# 🧠 This is how CNN \"sees\" edges, curves, shapes, etc.\n",
        "\n",
        "def convolve(image, filt, bias):\n",
        "    h, w = image.shape\n",
        "    fh, fw = filt.shape    # filter ko height ra width\n",
        "    out_h = h - fh + 1\n",
        "    out_w = w - fw + 1\n",
        "                       ''' (28, 28) => (26, 26)\n",
        "                       ''' # ailesamma output ko height ra width kati hunxa nikalyo and stored in out_h and out_w\n",
        "                           # We’re using valid convolution (no padding), so the output size shrinks.\n",
        "\n",
        "    out = np.zeros((out_h, out_w))         # Prepares an empty 2D array for the feature map.\n",
        "\n",
        "    # Initially filled with zeros — we will fill it with convolution results from the following lope\n",
        "    for i in range(out_h):\n",
        "        for j in range(out_w):\n",
        "            region = image[i:i+fh, j:j+fw]\n",
        "                        '''Extracts a 3×3 block from the image at position (i, j)\n",
        "                        For example, if i=5, j=7, this will take the block:\n",
        "                        image[5:8, 7:10]'''\n",
        "\n",
        "            out[i, j] = np.sum(region * filt) + bias\n",
        "                        ''' Performs element-wise multiplication between region and filter\n",
        "                        Then sums all the products\n",
        "                        Adds the bias\n",
        "                        Stores the result in the output feature map at position (i, j)'''\n",
        "    return out\n",
        "    #  After the loop finishes, out holds the entire convolved image (feature map).\n",
        "\n",
        "\n",
        "\n",
        "\n",
        "\n",
        "\n",
        "# ===== Fully Connected Layer =====\n",
        "\n",
        "# Takes a flattened vector (from image) and connects to output neurons.\n",
        "#  This layer gives raw scores for each class.\n",
        "\n",
        "def fully_connected(flat_input, weights, bias):\n",
        "    return np.dot(flat_input, weights) + bias\n",
        "              ''' 🔚 Output:\n",
        "              Returns a vector of raw scores (logits) — one for each class.\n",
        "              You pass this into softmax to convert them into probabilities '''\n"
      ],
      "metadata": {
        "id": "rKS1Gj3A_LUD"
      },
      "execution_count": 19,
      "outputs": []
    },
    {
      "cell_type": "markdown",
      "source": [
        "28x28 image\n",
        "\n",
        "\n",
        "   ↓\n",
        "\n",
        "Convolution (3x3)\n",
        "\n",
        "   ↓\n",
        "\n",
        "ReLU\n",
        "\n",
        "   ↓\n",
        "\n",
        "Max Pooling (2x2, stride 2)\n",
        "\n",
        "   ↓\n",
        "\n",
        "Flatten (13x13xN)\n",
        "\n",
        "   ↓\n",
        "\n",
        "Fully connected layer (output: 4 values)\n",
        "\n",
        "   ↓\n",
        "   \n",
        "Softmax → [p_cat, p_dog, p_tree, p_clock]\n"
      ],
      "metadata": {
        "id": "InZNmN6vIyj5"
      }
    },
    {
      "cell_type": "markdown",
      "source": [
        "# YO forwad_pass() FUNCTION LE CONVOLUTION LAYER MA HUNE SABAI KAM LAI HANDLE GARXA i.e.   \n",
        "1. CONVOLVE GARXA\n",
        "2. RELU MA PATHAUXA   \n",
        "3. MAX POOLING   \n",
        "4. CREATES ARRAY OF ALL THE FEATURE MAPS FOR THAT IMAGE    \n",
        "5. FLATTERNS AND MAKES READY TO PASS INTO FULLY CONNECTED LAYERS."
      ],
      "metadata": {
        "id": "Q9LeF9ttnCqa"
      }
    },
    {
      "cell_type": "code",
      "source": [
        "\n",
        "def forward_pass(image, conv_filters, conv_biases):\n",
        "    feature_maps = []       # Initialize an empty list to store the output of each filter (i.e., each feature map).   After applying filters, each filter produces a 2D map → we collect all of them here.\n",
        "\n",
        "\n",
        "                        ''' Loop through all filters and their corresponding biases.\n",
        "                        conv_filters: list of 2D filters (e.g., 3×3)\n",
        "                        conv_biases: list of scalar bias values (1 per filter)\n",
        "                        zip() pairs them'''\n",
        "    for f, b in zip(conv_filters, conv_biases):\n",
        "\n",
        "        fm = convolve(image, f, b)    # Apply your convolve() function to the image using the current filter f and bias b. Output is a 2D feature map (e.g., 26×26\n",
        "\n",
        "        fm = relu(fm)    # Pass the feature map through the ReLU function.\n",
        "\n",
        "        fm = max_pooling(fm)      # Applies 2×2 max pooling with stride 2  and Reduces spatial dimensions (from 26×26 to 13×13)\n",
        "\n",
        "        feature_maps.append(fm)    # Add the current feature map to the list of feature maps.  we will have multiple 13×13 maps each from different filters\n",
        "\n",
        "    conv_output = np.array(feature_maps) # Convert the list of feature maps into a single NumPy array  Final shape: (num_filters, height, width) → e.g. (8, 13, 13)\n",
        "                                        # This is the 3D output volume from the convolutional layers\n",
        "\n",
        "    flat = conv_output.reshape(-1)         # Flattens the 3D output into a 1D vector\n",
        "    return flat\n",
        "                    ''' Returns the flattened vector — this is the final output of the convolutional stack (before classification).\n",
        "                    Next, this gets passed into fully_connected() → softmax() → prediction.'''\n",
        "\n",
        "\n",
        "\n",
        "\n",
        "\n",
        "# ======== LOSS FUNCTION =================================\n",
        "\n",
        "# This function calculates the cross-entropy loss for a single prediction. It measures how far off your model’s predicted probability (preds) is from the correct label.\n",
        "# preds: A 1D array of predicted probabilities (after softmax), e.g. [0.1, 0.3, 0.2, 0.4]\n",
        "# label:  The true class index (e.g. 2 if it’s class #2)\n",
        "\n",
        "def cross_entropy(preds, label):\n",
        "    epsilon = 1e-10\n",
        "    return -np.log(preds[label] + epsilon)      # Loss= −log(predicted probability of the correct class)\n",
        "\n",
        "\n",
        "\n",
        "\n",
        "# ========= CALCULATE DERIVATIVE dL/dz =========================\n",
        "\n",
        "# This function calculates the gradient of the loss (cross-entropy) with respect to the logits (z) that were passed into the softmax.\n",
        "\n",
        "def softmax_grad(preds, label):\n",
        "    grad = preds.copy()\n",
        "    grad[label] -= 1  # dL/dz = p - y (one-hot)\n",
        "    return grad\n"
      ],
      "metadata": {
        "id": "nI-tllA_EmNM"
      },
      "execution_count": 21,
      "outputs": []
    },
    {
      "cell_type": "markdown",
      "source": [
        "preds = softmax(z) (probabilities for each class)\n",
        "\n",
        "y is the true label (not one-hot, just an index)\n",
        "\n",
        "Then:\n",
        "\n",
        "∂\n",
        "Loss/∂\n",
        "𝑧\n",
        "𝑖\n",
        "=\n",
        "softmax\n",
        "(\n",
        "𝑧\n",
        ")\n",
        "𝑖\n",
        "−\n",
        "𝑦\n",
        "𝑖"
      ],
      "metadata": {
        "id": "iz0ta6_bjEwS"
      }
    },
    {
      "cell_type": "code",
      "source": [
        "# ==== Data ====\n",
        "classes = ['cat', 'dog', 'tree', 'clock']\n",
        "n_classes = len(classes)\n",
        "n_filters = 8               # Each image will be processed through 8 different 3×3 filters.\n",
        "filter_size = 3\n",
        "flattened_size = 13 * 13 * n_filters     # flattened_size = 1352 → After convolution and pooling, each image becomes (8, 13, 13) → flatten to 1352-length vector for FC layer.\n",
        "\n",
        "# ============ Random INITILIZATION ============\n",
        "np.random.seed(0)\n",
        "conv_filters = [np.random.randn(3, 3) * 0.1 for _ in range(n_filters)]\n",
        "conv_biases = [0.0 for _ in range(n_filters)]\n",
        "fc_weights = np.random.randn(flattened_size, n_classes) * 0.1  # no of weights = flatterened size(i.e. 13*13 * 8 (no of filters)) * 4 (i.e. no of output classes)\n",
        "fc_biases = np.zeros(n_classes)     # no of fully connected layers = no of classes and initialize all the biases to 0.\n",
        "\n",
        "# ==== Training ====\n",
        "lr = 0.01   #Learning Rate\n",
        "EPOCHS = 5\n",
        "\n",
        "for epoch in range(EPOCHS):\n",
        "    total_loss = 0     # initialize total loss\n",
        "    correct = 0     # initialize the no of correctly classified images\n",
        "    X_train, y_train = shuffle(X_train, y_train)  # suffles the images for better working\n",
        "\n",
        "    for i in range(len(X_train)):     # let(X_train)= no of images in the X_train. ===> This is to lope through all the training images\n",
        "        img = X_train[i].reshape(28, 28)\n",
        "        label = y_train[i]            # the label i.e. actual type of that specific images i.e. expected/correct output\n",
        "\n",
        "        # Forward pass\n",
        "        flat = forward_pass(img, conv_filters, conv_biases)     # pass thhe image, the weights of all the filters and their biases into forward_pass() function which gives a flattened 1D array ready to pass into fully connected layer.\n",
        "\n",
        "        logits = fully_connected(flat, fc_weights, fc_biases)   # pass the output 1D array from forward_pass() to fully_connected() along with the weights and biases\n",
        "\n",
        "        probs = softmax(logits)    # pass the output from fully connected to softmax() to get the probabilities\n",
        "\n",
        "        # Loss\n",
        "        loss = cross_entropy(probs, label)  # calculates loss function based on the probabilities and the label\n",
        "        total_loss += loss\n",
        "        pred = np.argmax(probs)\n",
        "\n",
        "        if pred == label:\n",
        "            correct += 1   # if predicted output is same as label then increment the no of correctly predicted images\n",
        "\n",
        "\n",
        "\n",
        "\n",
        "        # =========BACKPROPAGATION  (only FC layer)==============================\n",
        "        grad_softmax = softmax_grad(probs, label)\n",
        "        grad_w = np.outer(flat, grad_softmax)\n",
        "        grad_b = grad_softmax\n",
        "\n",
        "        # ================= Gradient Descent update ================\n",
        "        fc_weights -= lr * grad_w\n",
        "        fc_biases -= lr * grad_b\n",
        "\n",
        "    acc = correct / len(X_train)\n",
        "    print(f\"📚 Epoch {epoch+1}/{EPOCHS} | Loss: {total_loss:.4f} | Accuracy: {acc*100:.2f}%\")\n"
      ],
      "metadata": {
        "colab": {
          "base_uri": "https://localhost:8080/"
        },
        "id": "dmXV644ZLjIj",
        "outputId": "695afa8c-37af-4079-a69a-89674ac944e4"
      },
      "execution_count": 22,
      "outputs": [
        {
          "output_type": "stream",
          "name": "stdout",
          "text": [
            "📚 Epoch 1/5 | Loss: 1859.0719 | Accuracy: 77.72%\n",
            "📚 Epoch 2/5 | Loss: 1435.7172 | Accuracy: 82.41%\n",
            "📚 Epoch 3/5 | Loss: 1353.0172 | Accuracy: 83.59%\n",
            "📚 Epoch 4/5 | Loss: 1296.1134 | Accuracy: 84.47%\n",
            "📚 Epoch 5/5 | Loss: 1258.5482 | Accuracy: 84.91%\n"
          ]
        }
      ]
    },
    {
      "cell_type": "code",
      "source": [],
      "metadata": {
        "id": "QguIJVrBvW5v"
      },
      "execution_count": null,
      "outputs": []
    }
  ]
}